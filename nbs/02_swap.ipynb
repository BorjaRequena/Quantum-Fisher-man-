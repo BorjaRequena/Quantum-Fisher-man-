{
 "cells": [
  {
   "cell_type": "code",
   "execution_count": null,
   "id": "ad076df2-27c7-49b5-8029-b69579254db4",
   "metadata": {},
   "outputs": [],
   "source": [
    "# default_exp swap"
   ]
  },
  {
   "cell_type": "code",
   "execution_count": null,
   "id": "43ddad20-e39c-444d-82fa-5ef754f9f98b",
   "metadata": {},
   "outputs": [],
   "source": [
    "#export \n",
    "from qiskit import QuantumCircuit\n",
    "from qiskit.opflow import CircuitStateFn, StateFn"
   ]
  },
  {
   "cell_type": "markdown",
   "id": "b48e5936-5050-4ac4-9d52-9a8a0c6e6b93",
   "metadata": {},
   "source": [
    "# Swap test\n",
    "> Functionalities to compute the overlap between states through a swap test."
   ]
  },
  {
   "cell_type": "code",
   "execution_count": null,
   "id": "46f9d384-4e5c-4dd4-a2d5-f67a56fc70ec",
   "metadata": {},
   "outputs": [
    {
     "data": {
      "image/png": "[encoded data removed]",
      "text/plain": [
       "<Figure size 146.652x144.48 with 1 Axes>"
      ]
     },
     "execution_count": null,
     "metadata": {},
     "output_type": "execute_result"
    }
   ],
   "source": [
    "qc = QuantumCircuit(2)\n",
    "qc.h(0)\n",
    "qc.draw('mpl')"
   ]
  },
  {
   "cell_type": "code",
   "execution_count": null,
   "id": "f5341501-f1b8-426b-883d-ccc61a377287",
   "metadata": {},
   "outputs": [],
   "source": [
    "state = CircuitStateFn(qc)"
   ]
  },
  {
   "cell_type": "code",
   "execution_count": null,
   "id": "bea8dcae-15c5-487b-afa2-70f751dda204",
   "metadata": {},
   "outputs": [
    {
     "data": {
      "image/png": "[encoded data removed]",
      "text/plain": [
       "<Figure size 146.797x264.88 with 1 Axes>"
      ]
     },
     "execution_count": null,
     "metadata": {},
     "output_type": "execute_result"
    }
   ],
   "source": [
    "tensor_state = (state ^ state)\n",
    "tensor_state.primitive.draw('mpl')"
   ]
  },
  {
   "cell_type": "code",
   "execution_count": null,
   "id": "97d1eed2-654b-40b5-9237-83432ce3bd92",
   "metadata": {},
   "outputs": [],
   "source": [
    "swap = QuantumCircuit(tensor_state.num_qubits + 1)\n"
   ]
  },
  {
   "cell_type": "code",
   "execution_count": null,
   "id": "bb6897f2-e482-4e6d-b346-7f9203e3695b",
   "metadata": {},
   "outputs": [],
   "source": []
  }
 ],
 "metadata": {
  "kernelspec": {
   "display_name": "Python [conda env:qiskit]",
   "language": "python",
   "name": "conda-env-qiskit-py"
  }
 },
 "nbformat": 4,
 "nbformat_minor": 5
}
