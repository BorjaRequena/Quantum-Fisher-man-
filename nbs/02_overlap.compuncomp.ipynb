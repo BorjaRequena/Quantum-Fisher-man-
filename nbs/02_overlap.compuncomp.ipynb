{
 "cells": [
  {
   "cell_type": "code",
   "execution_count": null,
   "id": "2d02db14-f6fe-4bcd-87e3-5b0f68e14bbe",
   "metadata": {},
   "outputs": [],
   "source": [
    "# default_exp overlap.comp_uncomp"
   ]
  },
  {
   "cell_type": "code",
   "execution_count": null,
   "id": "e7dc67db-0c50-4d6b-9336-fdafefaf2f4e",
   "metadata": {},
   "outputs": [],
   "source": [
    "#export\n",
    "import numpy as np\n",
    "from fisherman.utils import sym_from_triu, is_exact_simulation\n",
    "\n",
    "from qiskit import QuantumCircuit\n",
    "from qiskit.providers import Backend\n",
    "from qiskit.utils import QuantumInstance\n",
    "from qiskit.circuit import ParameterExpression\n",
    "from qiskit.opflow import ListOp, StateFn, ExpectationBase, CircuitSampler\n",
    "\n",
    "from collections.abc import Iterable\n",
    "from typing import Optional, Union, Dict, List"
   ]
  },
  {
   "cell_type": "markdown",
   "id": "35cac092-263e-4efc-a205-3f2c68e6196d",
   "metadata": {},
   "source": [
    "# Compute-uncompute  \n",
    "> Compute-uncompute implementation to obtain the overlap between two quantum states. \n",
    "\n",
    "The compute-uncompute method provides the absolute value of the overlap between two quantum states $|\\langle\\psi|\\phi\\rangle|^2$. It relies on the assumption that states can be expressed as the unitary evolution of the zero state, e.g. $|\\psi\\rangle = U_{\\psi}|0\\rangle$. This way, we can express the overlap between two states as $\\langle\\psi|\\phi\\rangle=\\langle 0|U_{\\psi}^\\dagger U _{\\phi}|0\\rangle$ and obtain its modulus square by preparing the state $U_{\\psi}^\\dagger U _{\\phi}|0\\rangle$ and estimating the probability of measuring zero. \n",
    "\n",
    "Intuitively, the method prepares a state $U_{\\phi}|0\\rangle$ and, then, un-prepares the other by applying $U_{\\psi}^\\dagger$. If both states are the same, the product $U_{\\psi}^\\dagger U_{\\phi}$ is the identity and we measure $|0\\rangle$ with probability 1. The more similar the two states are, the more the second operator \"undoes\" the first one and so the higher the probability of measuring $|0\\rangle$. \n",
    "\n",
    "In terms of execution in a quantum computer, this method does not require any additional qubits, although it effectively doubles the circuit depth needed to prepare the states as the resulting circuit is the composition of both preparations. "
   ]
  },
  {
   "cell_type": "code",
   "execution_count": null,
   "id": "02b4131b-d546-4cfa-82d6-a1abfc95278b",
   "metadata": {},
   "outputs": [],
   "source": [
    "#export\n",
    "def compute_uncompute_overlap(\n",
    "    state0: StateFn, \n",
    "    state1: Optional[Union[StateFn, ListOp]] = None, \n",
    "    param_dict: Optional[Dict[ParameterExpression, List[float]]] = None,\n",
    "    expectation: Optional[ExpectationBase] = None, \n",
    "    backend: Optional[Union[Backend, QuantumInstance]] = None\n",
    ") -> np.ndarray:\n",
    "    \"\"\"Compute-uncompute method \"\"\"\n",
    "    \n",
    "    if state1 is not None and param_dict is not None: \n",
    "        raise ValueError(\n",
    "            \"swap_test_overlap only accepts one optional input \"\n",
    "            \"either `state1` or `param_dict`.\"\n",
    "                        )\n",
    "        \n",
    "    qi = QuantumInstance(backend) if isinstance(backend, Backend) else backend\n",
    "    \n",
    "    if qi is None or is_exact_simulation(qi):\n",
    "        if param_dict is not None:\n",
    "            states = state0.bind_parameters(param_dict)\n",
    "            observable = ~states @ states\n",
    "        elif state1 is not None:\n",
    "            states = state1 if isinstance(state1, ListOp) else ListOp([state1]) \n",
    "            observable = ~state0 @ states\n",
    "        else:\n",
    "            observable = ~state0 @ state0\n",
    "            \n",
    "        if expectation is not None: \n",
    "            observable = expectation.convert(observable)\n",
    "            \n",
    "        if qi is not None:\n",
    "            observable = CircuitSampler(qi).convert(observable)\n",
    "            \n",
    "        return np.squeeze(np.abs(observable.eval())**2)\n",
    "        \n",
    "    else:\n",
    "        # Workaround to prevent the compiler from converting the circuit to identity\n",
    "        # forcing the explicit execution with a noisy simulator or a quantum circuit. \n",
    "        def _cu_circuit(s0, s1):\n",
    "            circuit = s0.primitive.copy()\n",
    "            circuit.barrier()\n",
    "            circuit = circuit.compose((~s1).primitive)\n",
    "            circuit.measure_all()\n",
    "            return circuit\n",
    "        \n",
    "        if param_dict is not None:\n",
    "            states = state0.bind_parameters(param_dict)\n",
    "            circuits = [_cu_circuit(s_i, s_j)\n",
    "                        for i, s_i in enumerate(states) for s_j in states[i:]]\n",
    "        elif state1 is not None:\n",
    "            state1 = state1 if isinstance(state1, Iterable) else [state1]\n",
    "            circuits = [_cu_circuit(state0, s) for s in state1]\n",
    "        else:\n",
    "            circuits = [_cu_circuit(state0, state0)]\n",
    "            \n",
    "        counts = qi.execute(circuits).get_counts()\n",
    "        counts = counts if isinstance(counts, list) else [counts]\n",
    "        zero_state = '0'*state0.num_qubits\n",
    "        overlap = np.array([c.get(zero_state, 0)/sum(c.values()) for c in counts])\n",
    "        \n",
    "        return overlap.squeeze() if param_dict is None else sym_from_triu(overlap, len(states))"
   ]
  },
  {
   "cell_type": "markdown",
   "id": "16561801-01ac-4421-b410-6c0ec6da5c17",
   "metadata": {},
   "source": [
    "The overal behaviour is analogous to that of the other overlap computation functions. \n",
    "\n",
    "See some function call examples below and refer to [the basic usage](https://borjarequena.github.io/Quantum-Fisherman/#Basic-usage) for a joint explanation of the overlap computation functions. "
   ]
  },
  {
   "cell_type": "code",
   "execution_count": null,
   "id": "9341930b-0738-443b-8902-2d672a0356d3",
   "metadata": {},
   "outputs": [],
   "source": [
    "#hide\n",
    "from qiskit import QuantumCircuit\n",
    "from qiskit.circuit import Parameter\n",
    "from qiskit.opflow import CircuitStateFn\n",
    "from qiskit.providers.aer import QasmSimulator\n",
    "from qiskit.test.mock import FakeVigo"
   ]
  },
  {
   "cell_type": "code",
   "execution_count": null,
   "id": "13d1fac0-5cb8-425b-8605-46d326bc6dfb",
   "metadata": {},
   "outputs": [
    {
     "data": {
      "image/png": "[encoded data removed]",
      "text/plain": [
       "<Figure size 146.652x144.48 with 1 Axes>"
      ]
     },
     "execution_count": null,
     "metadata": {},
     "output_type": "execute_result"
    }
   ],
   "source": [
    "qc0 = QuantumCircuit(2)\n",
    "qc0.x(0)\n",
    "qc0.draw('mpl')"
   ]
  },
  {
   "cell_type": "code",
   "execution_count": null,
   "id": "6a189c1c-886e-41ac-a5d5-00f663d36e9f",
   "metadata": {},
   "outputs": [
    {
     "data": {
      "image/png": "[encoded data removed]",
      "text/plain": [
       "<Figure size 146.652x144.48 with 1 Axes>"
      ]
     },
     "execution_count": null,
     "metadata": {},
     "output_type": "execute_result"
    }
   ],
   "source": [
    "theta0 = Parameter('θ')\n",
    "qc1 = QuantumCircuit(2)\n",
    "qc1.x(0)\n",
    "qc1.rx(theta0, 1)\n",
    "qc1.draw('mpl')"
   ]
  },
  {
   "cell_type": "code",
   "execution_count": null,
   "id": "71a331c0-452a-44b8-8b07-e7b3165e7b79",
   "metadata": {},
   "outputs": [
    {
     "data": {
      "text/plain": [
       "1.0"
      ]
     },
     "execution_count": null,
     "metadata": {},
     "output_type": "execute_result"
    }
   ],
   "source": [
    "state0 = CircuitStateFn(qc0)\n",
    "purity = compute_uncompute_overlap(state0)\n",
    "purity"
   ]
  },
  {
   "cell_type": "code",
   "execution_count": null,
   "id": "b4356fdd-fb38-4e8e-bd23-09231082fef7",
   "metadata": {},
   "outputs": [],
   "source": [
    "theta_values = [0, np.pi/2, np.pi, 3*np.pi/2, 2*np.pi]\n",
    "param_dict = {theta0: theta_values}"
   ]
  },
  {
   "cell_type": "code",
   "execution_count": null,
   "id": "9a18a98b-5892-4dbf-accb-1f56183eb5d1",
   "metadata": {},
   "outputs": [
    {
     "data": {
      "text/plain": [
       "array([1. , 0.5, 0. , 0.5, 1. ])"
      ]
     },
     "execution_count": null,
     "metadata": {},
     "output_type": "execute_result"
    }
   ],
   "source": [
    "state0 = CircuitStateFn(qc0)\n",
    "state1 = CircuitStateFn(qc1).bind_parameters(param_dict)\n",
    "overlaps = compute_uncompute_overlap(state0, state1)\n",
    "overlaps"
   ]
  },
  {
   "cell_type": "code",
   "execution_count": null,
   "id": "ee0790a9-5daa-47b3-bdab-54048e080fc3",
   "metadata": {},
   "outputs": [
    {
     "data": {
      "text/plain": [
       "array([[1. , 0.5, 0. , 0.5, 1. ],\n",
       "       [0.5, 1. , 0.5, 0. , 0.5],\n",
       "       [0. , 0.5, 1. , 0.5, 0. ],\n",
       "       [0.5, 0. , 0.5, 1. , 0.5],\n",
       "       [1. , 0.5, 0. , 0.5, 1. ]])"
      ]
     },
     "execution_count": null,
     "metadata": {},
     "output_type": "execute_result"
    }
   ],
   "source": [
    "param_state = CircuitStateFn(qc1)\n",
    "overlaps = compute_uncompute_overlap(param_state, param_dict=param_dict)\n",
    "overlaps"
   ]
  },
  {
   "cell_type": "code",
   "execution_count": null,
   "id": "6b1b2202-e1bc-4818-9c6d-5c8911cfef04",
   "metadata": {},
   "outputs": [
    {
     "data": {
      "text/plain": [
       "array([1., 1., 1., 1., 1.])"
      ]
     },
     "execution_count": null,
     "metadata": {},
     "output_type": "execute_result"
    }
   ],
   "source": [
    "overlaps.diagonal()"
   ]
  },
  {
   "cell_type": "markdown",
   "id": "7b5f8199-7bf1-425e-98f5-ed5affc589a4",
   "metadata": {},
   "source": [
    "Compare with a noisy simulator"
   ]
  },
  {
   "cell_type": "code",
   "execution_count": null,
   "id": "35b5c8f9-3717-4bc9-b91a-58f48611bb2d",
   "metadata": {},
   "outputs": [
    {
     "data": {
      "text/plain": [
       "array([[0.905, 0.488, 0.031, 0.487, 0.918],\n",
       "       [0.488, 0.911, 0.48 , 0.039, 0.454],\n",
       "       [0.031, 0.48 , 0.919, 0.483, 0.036],\n",
       "       [0.487, 0.039, 0.483, 0.91 , 0.454],\n",
       "       [0.918, 0.454, 0.036, 0.454, 0.923]])"
      ]
     },
     "execution_count": null,
     "metadata": {},
     "output_type": "execute_result"
    }
   ],
   "source": [
    "backend = QasmSimulator.from_backend(FakeVigo())\n",
    "o = compute_uncompute_overlap(param_state, param_dict=param_dict, backend=backend)\n",
    "np.round(o, 3)"
   ]
  },
  {
   "cell_type": "code",
   "execution_count": null,
   "id": "4f75d0cf-72e1-4b49-ae40-8a29233a2504",
   "metadata": {},
   "outputs": [],
   "source": []
  }
 ],
 "metadata": {
  "kernelspec": {
   "display_name": "Python [conda env:qiskit]",
   "language": "python",
   "name": "conda-env-qiskit-py"
  }
 },
 "nbformat": 4,
 "nbformat_minor": 5
}
