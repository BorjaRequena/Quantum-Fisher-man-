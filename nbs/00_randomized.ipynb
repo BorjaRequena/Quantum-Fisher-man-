{
 "cells": [
  {
   "cell_type": "code",
   "execution_count": null,
   "id": "72641a0e-6414-44fb-a7ed-f72b2e6d4840",
   "metadata": {},
   "outputs": [],
   "source": [
    "# default_exp overlap.randomized"
   ]
  },
  {
   "cell_type": "code",
   "execution_count": null,
   "id": "15e0f122-995c-4148-b2eb-1fc6394fc48e",
   "metadata": {},
   "outputs": [],
   "source": [
    "#export\n",
    "import numpy as np\n",
    "from fisherman.utils import sym_from_triu, vector_basis, hamming_distance\n",
    "\n",
    "from qiskit import QuantumCircuit\n",
    "from qiskit.providers import Backend\n",
    "from qiskit.utils import QuantumInstance\n",
    "from qiskit.quantum_info import random_unitary\n",
    "from qiskit.circuit import ParameterExpression\n",
    "from qiskit.opflow import ListOp, StateFn, PrimitiveOp, TensoredOp, ExpectationBase, CircuitSampler, Zero\n",
    "\n",
    "from collections.abc import Iterable\n",
    "from typing import Optional, Union, Dict, List"
   ]
  },
  {
   "cell_type": "markdown",
   "id": "7a92856e-e146-4302-80db-5513bdd9bd1e",
   "metadata": {},
   "source": [
    "# Randomized measurements\n",
    "\n",
    "> Functionalities to compute the overlap between two states through random measurements."
   ]
  },
  {
   "cell_type": "markdown",
   "id": "d83bb801-fe7e-4dc3-ae2c-71c7b8c7a4b5",
   "metadata": {},
   "source": [
    "## Random unitary evolution\n",
    "\n",
    "Performing random measurements on a state is equivalent to evolving it through random unitaries and, then, performing projective measurements on a state vector of a basis of choice. In this implementation, we take our reference state vector to be the $|0\\rangle$ of the computational basis.\n",
    "\n",
    "However, the first step is being able to randomly evolve states, for which we need to properly sample unitary operators from the Haar metric."
   ]
  },
  {
   "cell_type": "code",
   "execution_count": null,
   "id": "a7ab1be3-94dc-4c86-bd4e-eb5f7ad1e21b",
   "metadata": {},
   "outputs": [],
   "source": [
    "#export\n",
    "def random_unitary_circuits(\n",
    "    n_rnd: int, \n",
    "    n_qubits: int, \n",
    "    d: Optional[int] = 2, \n",
    "    local: Optional[bool] = True\n",
    ") -> ListOp:\n",
    "    \"Samples `n_rnd` unitary random circuits with acting on `n_qubits`.\"\n",
    "    def _random_circuit(n_qubits): \n",
    "        if local: \n",
    "            return TensoredOp([PrimitiveOp(random_unitary(d)) for _ in range(n_qubits)])\n",
    "        else:\n",
    "            return PrimitiveOp(random_unitary(d**n_qubits))\n",
    "    return ListOp([_random_circuit(n_qubits) for _ in range(n_rnd)])"
   ]
  },
  {
   "cell_type": "markdown",
   "id": "a8b84a29-7944-4800-abaf-146c7f29f79e",
   "metadata": {},
   "source": [
    "`local` indicates whether the random unitaries act at a local (`local=True`) or global (`local=False`) level. Global unitaries are much more costly to implement both at a numerical and experimental level. In terms of simulation, they require the explicit computation of $N\\times N$ matrices, where $N$ is the size of the Hilbert space. In contrast, the operator resulting from the combination of local unitaries is expressed as the lazy computation of their tensor product, which is a list of `n_qubits` elements of size $d\\times d$, where `d` is the size of the local Hilbert space.  "
   ]
  },
  {
   "cell_type": "code",
   "execution_count": null,
   "id": "06fa564c-03c7-46a7-b22b-24d58263b002",
   "metadata": {},
   "outputs": [
    {
     "name": "stdout",
     "output_type": "stream",
     "text": [
      "TensoredOp([\n",
      "  Operator([[ 0.07099579+0.32903812j,  0.75676771+0.56035358j],\n",
      "            [ 0.94076065+0.04077892j, -0.26224586+0.21102985j]],\n",
      "           input_dims=(2,), output_dims=(2,)),\n",
      "  Operator([[-0.30514745-0.1707145j ,  0.93310157+0.08404199j],\n",
      "            [ 0.91508156+0.20091623j,  0.34239631-0.07087433j]],\n",
      "           input_dims=(2,), output_dims=(2,))\n",
      "])\n",
      "Operator([[-0.34752919+0.56203462j,  0.08680883-0.41629036j,\n",
      "           -0.03508419+0.18996298j, -0.21437868+0.54702107j],\n",
      "          [ 0.37249939-0.0753213j ,  0.02126428+0.10429014j,\n",
      "           -0.22450534-0.66745055j, -0.3635745 +0.46493333j],\n",
      "          [ 0.01154624-0.41187321j,  0.44426806-0.09316649j,\n",
      "            0.65389342+0.00971268j,  0.18810724+0.40139479j],\n",
      "          [-0.08891875-0.4911538j , -0.70610247-0.32125248j,\n",
      "            0.11540848+0.16062449j, -0.2948111 +0.15180454j]],\n",
      "         input_dims=(2, 2), output_dims=(2, 2))\n"
     ]
    }
   ],
   "source": [
    "n_qubits = 2\n",
    "loc = random_unitary_circuits(1, n_qubits)[0]\n",
    "glob = random_unitary_circuits(1, n_qubits, local=False)[0]\n",
    "print(loc)\n",
    "print(glob)"
   ]
  },
  {
   "cell_type": "markdown",
   "id": "32dd0cfb-65dc-40b6-a624-4aab3a58dc9a",
   "metadata": {},
   "source": [
    "In terms of actual execution on a quantum hardware, the performance of local unitaries is straightforward, whereas global unitaries must be decomposed into a series of local operations. "
   ]
  },
  {
   "cell_type": "code",
   "execution_count": null,
   "id": "3f1c9617-e788-4d0d-965b-cfb44c13878a",
   "metadata": {},
   "outputs": [
    {
     "data": {
      "image/png": "[encoded data removed]",
      "text/plain": [
       "<Figure size 206.852x144.48 with 1 Axes>"
      ]
     },
     "execution_count": null,
     "metadata": {},
     "output_type": "execute_result"
    }
   ],
   "source": [
    "loc.to_circuit_op().primitive.draw('mpl')"
   ]
  },
  {
   "cell_type": "code",
   "execution_count": null,
   "id": "e7e0793a-43a1-40c2-a847-a781b942f8ce",
   "metadata": {},
   "outputs": [
    {
     "data": {
      "image/png": "[encoded data removed]",
      "text/plain": [
       "<Figure size 748.652x144.48 with 1 Axes>"
      ]
     },
     "execution_count": null,
     "metadata": {},
     "output_type": "execute_result"
    }
   ],
   "source": [
    "glob.to_circuit_op().primitive.draw('mpl')"
   ]
  },
  {
   "cell_type": "markdown",
   "id": "92af9970-cd7d-45f3-aa73-23f655da1aca",
   "metadata": {},
   "source": [
    "## Overlap through randomized measurements"
   ]
  },
  {
   "cell_type": "code",
   "execution_count": null,
   "id": "86195d0e-ace4-44ea-9134-f8a4bf2c11d5",
   "metadata": {},
   "outputs": [],
   "source": [
    "#export\n",
    "def randomized_measurement_overlap(\n",
    "    state0: Union[StateFn, QuantumCircuit], \n",
    "    state1: Optional[Union[StateFn, ListOp]] = None, \n",
    "    param_dict: Optional[Dict[ParameterExpression, List[float]]] = None,\n",
    "    n_rnd: Optional[int] = None,\n",
    "    local: Optional[bool] = True,\n",
    "    expectation: Optional[ExpectationBase] = None, \n",
    "    backend: Optional[Union[Backend, QuantumInstance]] = None\n",
    ") -> np.ndarray:\n",
    "    \"\"\"Overlap computation between states using randomized measurements.\"\"\"\n",
    "    \n",
    "    if state1 is not None and param_dict is not None: \n",
    "        raise ValueError(\n",
    "            \"randomized_measurement_overlap only accepts one optional input \"\n",
    "            \"either `state1` or `param_dict`.\"\n",
    "        )\n",
    "        \n",
    "    if isinstance(state0, QuantumCircuit): \n",
    "        state0 = CircuitStateFn(state0)\n",
    "        \n",
    "    if param_dict is not None: \n",
    "        state = state0.bind_parameters(param_dict)\n",
    "    elif state1 is not None: \n",
    "        state = ListOp([state0, *state1]) if isinstance(state1, ListOp) else ListOp([state0, state1]) \n",
    "    else: \n",
    "        state = ListOp([state0])\n",
    "\n",
    "    n_qubits = state0.num_qubits\n",
    "    n_rnd = 2**(6 + n_qubits//2) if n_rnd is None else n_rnd\n",
    "    U = random_unitary_circuits(n_rnd, n_qubits, local=local)\n",
    "    observable = (U @ state) if local else (~Zero @ U @ state)\n",
    "    \n",
    "    if expectation is not None: \n",
    "        observable = expectation.convert(observable)\n",
    "        \n",
    "    if backend is not None:\n",
    "        observable = CircuitSampler(backend).convert(observable)\n",
    "    \n",
    "    overlap = _overlap_from_local(observable) if local else _overlap_from_global(observable)\n",
    "    \n",
    "    return overlap[0, 1:] if state1 is not None else overlap.squeeze()\n",
    "\n",
    "def _overlap_from_global(observable):\n",
    "    \"Overlap computation from measurements obtained through global random unitaries.\"\n",
    "    rnd_meas = np.abs(observable.eval())**2\n",
    "    p = rnd_meas.mean(0)\n",
    "    \n",
    "    def _prefactor(counts):\n",
    "        \"Prefactor `N(N+1)` where `N` is the estimated Hilbert space size.\"\n",
    "        n_experiments = counts.shape[1]\n",
    "        pmat = np.broadcast_to(p, (n_experiments, n_experiments))\n",
    "        N = 1/pmat # Estimated size of the Hilbert space\n",
    "        triu = np.triu(np.ones(n_experiments))\n",
    "        tril = np.where(triu==0, 1, 0)\n",
    "        return (N + triu)*(N.T + tril)\n",
    "    \n",
    "    product_expectation = (rnd_meas.T @ rnd_meas)/rnd_meas.shape[0]\n",
    "    return _prefactor(rnd_meas)*product_expectation - 1\n",
    "\n",
    "def _overlap_from_local(observable, transp_sv=True):\n",
    "    \"Overlap computation from measurements obtained through local random unitaries.\"\n",
    "    statevectors = _statevector_to_matrix(observable.eval())\n",
    "    if transp_sv: \n",
    "        statevectors = statevectors.transpose(1, 0, 2)\n",
    "    rnd_meas = np.abs(statevectors)**2\n",
    "    n_states, n_rnd, _ = rnd_meas.shape\n",
    "    \n",
    "    def _prefactor(n, d=2):\n",
    "        \"Prefacotr ::math:: $(-d)^{-D(s, s')}$. See Eq. (4) in [ref]\"\n",
    "        v = vector_basis(n)\n",
    "        dists = sym_from_triu([hamming_distance(v_i, v_j) \n",
    "                               for i, v_i in enumerate(v) for v_j in v[i:]], d**n)\n",
    "        return (-d)**(-dists)\n",
    "    \n",
    "    pref = _prefactor(observable.num_qubits)\n",
    "    N = 1/rnd_meas.mean()\n",
    "    overlaps = [np.sum(N*pref*(m_i.T @ m_j)/n_rnd) \n",
    "                for i, m_i in enumerate(rnd_meas) for m_j in rnd_meas[i:]]\n",
    "    return sym_from_triu(overlaps, n_states)\n",
    "\n",
    "def _statevector_to_matrix(v):\n",
    "    list_of_matrices = list(map(lambda x: list(map(lambda y: y.to_matrix().squeeze(), x)), v))\n",
    "    return np.array(list_of_matrices)"
   ]
  },
  {
   "cell_type": "code",
   "execution_count": null,
   "id": "55dec319-1130-44b5-8f55-688d5d8f6aff",
   "metadata": {},
   "outputs": [],
   "source": [
    "#hide\n",
    "from qiskit import BasicAer\n",
    "from qiskit.circuit import QuantumCircuit, Parameter\n",
    "from qiskit.opflow import CircuitStateFn, PauliExpectation"
   ]
  },
  {
   "cell_type": "code",
   "execution_count": null,
   "id": "ad4260ac-a660-40f7-b415-f8c2884ad0c6",
   "metadata": {},
   "outputs": [
    {
     "data": {
      "image/png": "[encoded data removed]",
      "text/plain": [
       "<Figure size 206.852x144.48 with 1 Axes>"
      ]
     },
     "execution_count": null,
     "metadata": {},
     "output_type": "execute_result"
    }
   ],
   "source": [
    "theta0, theta1 = Parameter('θ0'), Parameter('θ1')\n",
    "qc = QuantumCircuit(2)\n",
    "qc.h(0)\n",
    "qc.rx(theta0, 0)\n",
    "qc.rx(theta1, 1)\n",
    "qc.draw('mpl')"
   ]
  },
  {
   "cell_type": "code",
   "execution_count": null,
   "id": "0887c97f-9e7d-4df0-9ce2-e1be18445ea3",
   "metadata": {},
   "outputs": [],
   "source": [
    "state = CircuitStateFn(qc)\n",
    "expectation = PauliExpectation()\n",
    "backend = BasicAer.get_backend('qasm_simulator')\n",
    "qi = QuantumInstance(backend, shots=1000)"
   ]
  },
  {
   "cell_type": "code",
   "execution_count": null,
   "id": "93bb1aa9-8f62-4e3a-b7b2-5e678f64bdd0",
   "metadata": {},
   "outputs": [],
   "source": [
    "param_dict = {theta0: [0, 0.1, 0.1], \n",
    "              theta1: [0, 0.1, 1.5]}"
   ]
  },
  {
   "cell_type": "code",
   "execution_count": null,
   "id": "31ca3021-be5e-499d-9586-57e022bf169c",
   "metadata": {},
   "outputs": [
    {
     "data": {
      "text/plain": [
       "array([[0.95660219, 0.94857493, 0.46670327],\n",
       "       [0.94857493, 0.95362864, 0.51531025],\n",
       "       [0.46670327, 0.51531025, 1.00551041]])"
      ]
     },
     "execution_count": null,
     "metadata": {},
     "output_type": "execute_result"
    }
   ],
   "source": [
    "overlap = randomized_measurement_overlap(state, param_dict=param_dict, n_rnd=500, \n",
    "                                         local=False, expectation=expectation, backend=qi)\n",
    "overlap"
   ]
  },
  {
   "cell_type": "code",
   "execution_count": null,
   "id": "dc1e4ff5-02e4-4c0d-9eb6-5706d0c9c15f",
   "metadata": {},
   "outputs": [
    {
     "data": {
      "text/plain": [
       "array([[0.96025352, 0.95692673, 0.54417865],\n",
       "       [0.95692673, 0.96440688, 0.5944077 ],\n",
       "       [0.54417865, 0.5944077 , 0.99312741]])"
      ]
     },
     "execution_count": null,
     "metadata": {},
     "output_type": "execute_result"
    }
   ],
   "source": [
    "overlap = randomized_measurement_overlap(state, param_dict=param_dict, n_rnd=500,\n",
    "                                         local=True, expectation=expectation, backend=qi)\n",
    "overlap"
   ]
  },
  {
   "cell_type": "code",
   "execution_count": null,
   "id": "2a9dd9c2-affb-4f2b-95a8-754064423b7d",
   "metadata": {},
   "outputs": [
    {
     "data": {
      "text/plain": [
       "array([0.76451921, 0.97574972])"
      ]
     },
     "execution_count": null,
     "metadata": {},
     "output_type": "execute_result"
    }
   ],
   "source": [
    "state0 = state.bind_parameters({theta0: 0., theta1: 0.5})\n",
    "state1 = state.bind_parameters({theta0: [0.2, 0.5], theta1: [1.5, 0.5]})\n",
    "\n",
    "overlap = randomized_measurement_overlap(state0, state1, n_rnd=200)\n",
    "overlap"
   ]
  },
  {
   "cell_type": "code",
   "execution_count": null,
   "id": "57b960d4-d98b-4682-a11c-54622495453d",
   "metadata": {},
   "outputs": [],
   "source": [
    "purity = randomized_measurement_overlap(state0)\n",
    "purity"
   ]
  },
  {
   "cell_type": "markdown",
   "id": "89747f74-4192-4651-9786-df2bb39b4984",
   "metadata": {},
   "source": [
    "## Overlap across backends "
   ]
  },
  {
   "cell_type": "code",
   "execution_count": null,
   "id": "2eae6384-0f08-41ae-af66-4893b5723b1f",
   "metadata": {},
   "outputs": [],
   "source": [
    "#export\n",
    "def device_independent_overlap(state0, backends, state1=None, n_rnd=None, local=True):\n",
    "    \"Computes overlap between states through randomized measurements using different backends.\"\n",
    "    \n",
    "    n_qubits = state0.num_qubits\n",
    "    n_rnd = 2**(6 + n_qubits//2) if n_rnd is None else n_rnd\n",
    "    U = random_unitary_circuits(n_rnd, n_qubits, local=local)\n",
    "    \n",
    "    if not isinstance(backends, Iterable): \n",
    "        backends = [backends]\n",
    "    n_backends = len(backends)\n",
    "\n",
    "    if state1 is None:\n",
    "        if n_backends > 1:\n",
    "            states = [state0]*len(backends)\n",
    "        else:\n",
    "            raise ValueError(\n",
    "                \"If `state1` is not provided, the number of backeds must be larger\" \n",
    "                f\" than one, not {len(backends)}.\"\n",
    "            )\n",
    "    else:\n",
    "        if not isinstance(state1, Iterable):\n",
    "            state1 = [state1]\n",
    "        states = [state0, *state1]\n",
    "        if n_backends == 1:\n",
    "            from qiskit.providers.aer import StatevectorSimulator\n",
    "            backends = [StatevectorSimulator()] + backends*len(state1)\n",
    "        elif n_backends == 2:\n",
    "            backends = [backends[0]] + [backends[1]]*len(state1)\n",
    "        elif n_backends == len(state1):\n",
    "            from qiskit.providers.aer import StatevectorSimulator\n",
    "            backends = [StatevectorSimulator()] + backends\n",
    "        elif n_backends == len(states):\n",
    "            pass\n",
    "        else:\n",
    "            raise ValueError(\n",
    "                f\"Number of backends must be either 1, 2, len(state1) = {len(state1)} \"\n",
    "                f\"or len(state1) + 1 = {len(state1) + 1}, not {n_backends}.\"\n",
    "            )          \n",
    "            \n",
    "    observable = ListOp([CircuitSampler(qi).convert((U @ s) if local else (~Zero @ U @ s)) \n",
    "                  for qi, s in zip(backends, states)])\n",
    "            \n",
    "    overlap = (_overlap_from_local(observable, transp_sv=False) if local \n",
    "               else _overlap_from_global(observable))\n",
    "    \n",
    "    return overlap\n",
    "    \n",
    "    return overlap[0] if state1 is not None else overlap.squeeze()"
   ]
  }
 ],
 "metadata": {
  "kernelspec": {
   "display_name": "Python [conda env:qiskit]",
   "language": "python",
   "name": "conda-env-qiskit-py"
  }
 },
 "nbformat": 4,
 "nbformat_minor": 5
}
