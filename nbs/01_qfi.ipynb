{
 "cells": [
  {
   "cell_type": "code",
   "execution_count": null,
   "metadata": {},
   "outputs": [],
   "source": [
    "# default_exp qfi"
   ]
  },
  {
   "cell_type": "code",
   "execution_count": null,
   "metadata": {},
   "outputs": [],
   "source": [
    "#export \n",
    "import numpy as np\n",
    "from scipy.optimize import curve_fit\n",
    "from qiskit.circuit import Parameter\n",
    "from qiskit.opflow import CircuitStateFn\n",
    "from qiskit import QuantumCircuit, BasicAer\n",
    "\n",
    "from fisherman.overlap.randomized import randomized_measurement_overlap"
   ]
  },
  {
   "cell_type": "code",
   "execution_count": null,
   "metadata": {},
   "outputs": [],
   "source": [
    "#hide\n",
    "from nbdev.showdoc import *\n",
    "import matplotlib.pyplot as plt"
   ]
  },
  {
   "cell_type": "markdown",
   "metadata": {},
   "source": [
    "# QFI\n",
    "\n",
    "> Implementation of the method introduced in [this paper](https://arxiv.org/pdf/2104.00519.pdf)."
   ]
  },
  {
   "cell_type": "code",
   "execution_count": null,
   "metadata": {},
   "outputs": [],
   "source": [
    "n_qubits = 1\n",
    "backend = BasicAer.get_backend('statevector_simulator')"
   ]
  },
  {
   "cell_type": "code",
   "execution_count": null,
   "metadata": {},
   "outputs": [
    {
     "data": {
      "image/png": "[encoded data removed]",
      "text/plain": [
       "<Figure size 253.926x84.28 with 1 Axes>"
      ]
     },
     "execution_count": null,
     "metadata": {},
     "output_type": "execute_result"
    }
   ],
   "source": [
    "theta0, theta1 = Parameter('θ0'), Parameter('θ1')\n",
    "qc = QuantumCircuit(n_qubits)\n",
    "qc.h(0)\n",
    "qc.rz(theta0, 0)\n",
    "qc.rx(theta1, 0)\n",
    "qc.draw('mpl')"
   ]
  },
  {
   "cell_type": "code",
   "execution_count": null,
   "metadata": {},
   "outputs": [],
   "source": [
    "state = CircuitStateFn(qc)\n",
    "param_values = {theta0: np.pi/4, theta1: 0.1}\n",
    "dtheta = np.round(np.arange(-0.1, 0.1, 0.01), 3)"
   ]
  },
  {
   "cell_type": "code",
   "execution_count": null,
   "metadata": {},
   "outputs": [],
   "source": [
    "n_params, n_dth = len(state.parameters), len(dtheta)\n",
    "params = state.primitive.parameters\n",
    "qfi = np.zeros((n_params, n_params))\n",
    "idx0 = np.argwhere(dtheta == 0).squeeze()"
   ]
  },
  {
   "cell_type": "code",
   "execution_count": null,
   "metadata": {},
   "outputs": [
    {
     "name": "stdout",
     "output_type": "stream",
     "text": [
      "0 0 θ0 θ0\n",
      "0 1 θ0 θ1\n",
      "1 1 θ1 θ1\n"
     ]
    }
   ],
   "source": [
    "def sub_qfi(x, qfi): return qfi*x**2\n",
    "\n",
    "for i, param_i in enumerate(params):\n",
    "    for j, param_j in enumerate(params[i:], i):\n",
    "        d = 1 if i == j else 1/np.sqrt(2)\n",
    "        param_dict = {p: [v]*n_dth for p, v in param_values.items()}\n",
    "        param_dict[param_i] = [param_values[param_i] + dth*d for dth in dtheta]\n",
    "        param_dict[param_j] = [param_values[param_j] + dth*d for dth in dtheta]\n",
    "\n",
    "        overlap = randomized_measurement_overlap(state, param_dict=param_dict, n_rnd=256, local=False)\n",
    "\n",
    "        if np.max(overlap) > 1: \n",
    "            overlap /= np.max(overlap)\n",
    "        super_fidelity = overlap[idx0] + np.sqrt((1-overlap[idx0, idx0])*(1-overlap.diagonal()))\n",
    "        bures_distance = 8*(1 - np.sqrt(super_fidelity))\n",
    "\n",
    "        est_qfi, _ = curve_fit(sub_qfi, dtheta, bures_distance)\n",
    "        qfi[i, j] = est_qfi"
   ]
  },
  {
   "cell_type": "code",
   "execution_count": null,
   "metadata": {},
   "outputs": [
    {
     "data": {
      "text/plain": [
       "array([1.32607772])"
      ]
     },
     "execution_count": null,
     "metadata": {},
     "output_type": "execute_result"
    }
   ],
   "source": [
    "i, j = 0, 1\n",
    "param_i, param_j = theta0, theta1\n",
    "d = 1 if i == j else 1/np.sqrt(2)\n",
    "param_dict = {p: [v]*n_dth for p, v in param_values.items()}\n",
    "param_dict[param_i] = [param_values[param_i] + dth*d for dth in dtheta]\n",
    "param_dict[param_j] = [param_values[param_j] + dth*d for dth in dtheta]\n",
    "\n",
    "overlap = randomized_measurement_overlap(state, param_dict=param_dict, n_rnd=256, local=False)\n",
    "\n",
    "if np.max(overlap) > 1: \n",
    "    overlap /= np.max(overlap)\n",
    "super_fidelity = overlap[idx0] + np.sqrt((1-overlap[idx0, idx0])*(1-overlap.diagonal()))\n",
    "bures_distance = 8*(1 - np.sqrt(super_fidelity))\n",
    "\n",
    "est_qfi, _ = curve_fit(sub_qfi, dtheta, bures_distance)\n",
    "qfi[i, j] = est_qfi\n",
    "est_qfi"
   ]
  },
  {
   "cell_type": "code",
   "execution_count": null,
   "metadata": {},
   "outputs": [
    {
     "data": {
      "text/plain": [
       "[<matplotlib.lines.Line2D at 0x7f19c0796490>]"
      ]
     },
     "execution_count": null,
     "metadata": {},
     "output_type": "execute_result"
    },
    {
     "data": {
      "image/png": "[encoded data removed]",
      "text/plain": [
       "<Figure size 432x288 with 1 Axes>"
      ]
     },
     "metadata": {
      "needs_background": "light"
     },
     "output_type": "display_data"
    }
   ],
   "source": [
    "plt.plot(dtheta, bures_distance)"
   ]
  },
  {
   "cell_type": "code",
   "execution_count": null,
   "metadata": {},
   "outputs": [
    {
     "data": {
      "text/plain": [
       "array([[1.13134914, 0.81363145],\n",
       "       [0.        , 0.53422818]])"
      ]
     },
     "execution_count": null,
     "metadata": {},
     "output_type": "execute_result"
    }
   ],
   "source": [
    "qfi"
   ]
  },
  {
   "cell_type": "code",
   "execution_count": null,
   "metadata": {},
   "outputs": [
    {
     "data": {
      "text/plain": [
       "{Parameter(θ0): 0.7853981633974483, Parameter(θ1): 0.1}"
      ]
     },
     "execution_count": null,
     "metadata": {},
     "output_type": "execute_result"
    }
   ],
   "source": [
    "param_values"
   ]
  },
  {
   "cell_type": "code",
   "execution_count": null,
   "metadata": {},
   "outputs": [
    {
     "data": {
      "text/plain": [
       "{Parameter(θ0): [0.5025554509228293,\n",
       "  0.573266129041484,\n",
       "  0.6439768071601388,\n",
       "  0.7146874852787936,\n",
       "  0.7853981633974483,\n",
       "  0.856108841516103,\n",
       "  0.9268195196347577,\n",
       "  0.9975301977534126,\n",
       "  1.0682408758720672],\n",
       " Parameter(θ1): [-0.182842712474619,\n",
       "  -0.11213203435596422,\n",
       "  -0.0414213562373095,\n",
       "  0.029289321881345254,\n",
       "  0.1,\n",
       "  0.17071067811865476,\n",
       "  0.2414213562373095,\n",
       "  0.31213203435596426,\n",
       "  0.382842712474619]}"
      ]
     },
     "execution_count": null,
     "metadata": {},
     "output_type": "execute_result"
    }
   ],
   "source": [
    "param_dict"
   ]
  },
  {
   "cell_type": "code",
   "execution_count": null,
   "metadata": {},
   "outputs": [
    {
     "data": {
      "text/plain": [
       "[<matplotlib.lines.Line2D at 0x7f19c08f4760>]"
      ]
     },
     "execution_count": null,
     "metadata": {},
     "output_type": "execute_result"
    },
    {
     "data": {
      "image/png": "[encoded data removed]",
      "text/plain": [
       "<Figure size 432x288 with 1 Axes>"
      ]
     },
     "metadata": {
      "needs_background": "light"
     },
     "output_type": "display_data"
    }
   ],
   "source": [
    "plt.plot(overlap[4])"
   ]
  }
 ],
 "metadata": {
  "kernelspec": {
   "display_name": "Python [conda env:qiskit]",
   "language": "python",
   "name": "conda-env-qiskit-py"
  }
 },
 "nbformat": 4,
 "nbformat_minor": 4
}
