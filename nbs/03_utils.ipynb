{
 "cells": [
  {
   "cell_type": "code",
   "execution_count": null,
   "id": "aa32c3cf-1da0-4675-8490-3de7ce0bdd77",
   "metadata": {},
   "outputs": [],
   "source": [
    "# default_exp utils"
   ]
  },
  {
   "cell_type": "code",
   "execution_count": null,
   "id": "2286c270-12fd-41f4-81d8-417c68e90d66",
   "metadata": {},
   "outputs": [],
   "source": [
    "#export\n",
    "import numpy as np\n",
    "from qiskit.utils import QuantumInstance"
   ]
  },
  {
   "cell_type": "markdown",
   "id": "dfac71b7-7d1c-41e9-85d1-3f9fca70a390",
   "metadata": {},
   "source": [
    "# Utils\n",
    "> General utilities and frequent minor life saving little functions.  \n"
   ]
  },
  {
   "cell_type": "code",
   "execution_count": null,
   "id": "c05c4b9d-fb1d-4c10-8c87-091ccb53d0e5",
   "metadata": {},
   "outputs": [],
   "source": [
    "#export\n",
    "def is_exact_simulation(\n",
    "    quantum_instance: QuantumInstance\n",
    ") -> bool:\n",
    "    \"Determines whether the quantum instance is to perform a noiseless exact simulation.\"\n",
    "    sim = quantum_instance.is_simulator\n",
    "    noise_qi = len(quantum_instance.noise_config) == 0\n",
    "    noise_backend = quantum_instance.backend.options.noise_model is None\n",
    "    return sim and noise_qi and noise_backend\n",
    "\n",
    "def sym_from_triu(\n",
    "    x: np.ndarray, \n",
    "    n: int\n",
    ") -> np.ndarray:\n",
    "    \"Creates an `n x n` symmetric matrix from the upper triangular data `x`.\"\n",
    "    sym = np.zeros((n, n))\n",
    "    sym[np.triu_indices(n)] = x\n",
    "    sym += np.triu(sym, 1).T\n",
    "    return sym\n",
    "\n",
    "def statevector_basis(\n",
    "    n: int\n",
    ") -> np.ndarray:\n",
    "    \"Creates a statevector basis with the binary encodings from 0 to `n`.\"\n",
    "    v = np.arange(2**n)\n",
    "    return (v[:, None] & (1 << np.arange(n)) > 0).astype(int)\n",
    "\n",
    "def hamming_distance(\n",
    "    x: np.ndarray, \n",
    "    y: np.ndarray\n",
    ") -> np.ndarray:\n",
    "    \"Hamming distance between arrays `x` and `y`.\"\n",
    "    return np.count_nonzero(x != y)"
   ]
  }
 ],
 "metadata": {
  "kernelspec": {
   "display_name": "Python [conda env:qiskit]",
   "language": "python",
   "name": "conda-env-qiskit-py"
  },
  "language_info": {
   "codemirror_mode": {
    "name": "ipython",
    "version": 3
   },
   "file_extension": ".py",
   "mimetype": "text/x-python",
   "name": "python",
   "nbconvert_exporter": "python",
   "pygments_lexer": "ipython3",
   "version": "3.9.4"
  }
 },
 "nbformat": 4,
 "nbformat_minor": 5
}
