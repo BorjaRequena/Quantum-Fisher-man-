{
 "cells": [
  {
   "cell_type": "code",
   "execution_count": null,
   "metadata": {},
   "outputs": [],
   "source": [
    "import numpy as np\n",
    "from scipy.optimize import curve_fit\n",
    "from qiskit.circuit import Parameter\n",
    "from qiskit.opflow import CircuitStateFn\n",
    "from qiskit import QuantumCircuit, BasicAer\n",
    "\n",
    "from fisherman.randomized import randomized_measurement_overlap"
   ]
  },
  {
   "cell_type": "markdown",
   "metadata": {},
   "source": [
    "# QFI\n",
    "\n",
    "> Implementation of the method introduced in [this paper](https://arxiv.org/pdf/2104.00519.pdf)."
   ]
  },
  {
   "cell_type": "code",
   "execution_count": null,
   "metadata": {},
   "outputs": [],
   "source": [
    "n_qubits = 1\n",
    "backend = BasicAer.get_backend('statevector_simulator')"
   ]
  },
  {
   "cell_type": "code",
   "execution_count": null,
   "metadata": {},
   "outputs": [
    {
     "data": {
      "image/png": "[encoded data removed]",
      "text/plain": [
       "<Figure size 253.926x84.28 with 1 Axes>"
      ]
     },
     "execution_count": null,
     "metadata": {},
     "output_type": "execute_result"
    }
   ],
   "source": [
    "theta0, theta1 = Parameter('θ0'), Parameter('θ1')\n",
    "qc = QuantumCircuit(n_qubits)\n",
    "qc.h(0)\n",
    "qc.rz(theta0, 0)\n",
    "qc.rx(theta1, 0)\n",
    "qc.draw('mpl')"
   ]
  },
  {
   "cell_type": "code",
   "execution_count": null,
   "metadata": {},
   "outputs": [],
   "source": [
    "state = CircuitStateFn(qc)\n",
    "param_values = {theta0: np.pi/4, theta1: 0.1}\n",
    "dtheta = np.round(np.arange(-0.1, 0.1, 0.01), 3)"
   ]
  },
  {
   "cell_type": "code",
   "execution_count": null,
   "metadata": {},
   "outputs": [],
   "source": [
    "n_params, n_dth = len(state.parameters), len(dtheta)\n",
    "params = state.primitive.parameters\n",
    "qfi = np.zeros((n_params, n_params))\n",
    "idx0 = np.argwhere(dtheta == 0).squeeze()"
   ]
  },
  {
   "cell_type": "code",
   "execution_count": null,
   "metadata": {},
   "outputs": [],
   "source": [
    "def sub_qfi(x, qfi): return qfi*x**2\n",
    "\n",
    "for i, param in enumerate(params):\n",
    "        param_dict = {p: [v]*n_dth for p, v in param_values.items()}\n",
    "        param_dict[param] = [param_values[param] + dth for dth in dtheta]\n",
    "        overlap = randomized_measurement_overlap(state, param_dict=param_dict, n_rnd=256, local=False)\n",
    "\n",
    "        if np.max(overlap) > 1: \n",
    "            overlap /= np.max(overlap)\n",
    "        super_fidelity = overlap[idx0] + np.sqrt((1-overlap[idx0, idx0])*(1-overlap.diagonal()))\n",
    "        bures_distance = 8*(1 - np.sqrt(super_fidelity))\n",
    "\n",
    "        est_qfi, _ = curve_fit(sub_qfi, dtheta, bures_distance)\n",
    "        qfi[i, i] = est_qfi"
   ]
  },
  {
   "cell_type": "code",
   "execution_count": null,
   "metadata": {},
   "outputs": [
    {
     "data": {
      "text/plain": [
       "array([[1.36533357, 0.        ],\n",
       "       [0.        , 0.18256721]])"
      ]
     },
     "execution_count": null,
     "metadata": {},
     "output_type": "execute_result"
    }
   ],
   "source": [
    "qfi"
   ]
  },
  {
   "cell_type": "code",
   "execution_count": null,
   "metadata": {},
   "outputs": [],
   "source": []
  }
 ],
 "metadata": {
  "kernelspec": {
   "display_name": "Python [conda env:qiskit]",
   "language": "python",
   "name": "conda-env-qiskit-py"
  }
 },
 "nbformat": 4,
 "nbformat_minor": 4
}
