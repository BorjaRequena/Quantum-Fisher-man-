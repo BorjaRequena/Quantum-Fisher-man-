{
 "cells": [
  {
   "cell_type": "code",
   "execution_count": null,
   "id": "ad076df2-27c7-49b5-8029-b69579254db4",
   "metadata": {},
   "outputs": [],
   "source": [
    "# default_exp overlap.swap"
   ]
  },
  {
   "cell_type": "code",
   "execution_count": null,
   "id": "43ddad20-e39c-444d-82fa-5ef754f9f98b",
   "metadata": {},
   "outputs": [],
   "source": [
    "#export \n",
    "import numpy as np\n",
    "from fisherman.utils import sym_from_triu\n",
    "\n",
    "from qiskit import BasicAer\n",
    "from qiskit.utils import QuantumInstance\n",
    "from qiskit.circuit import ParameterExpression\n",
    "from qiskit.providers import Backend, BaseBackend\n",
    "from qiskit import QuantumCircuit, ClassicalRegister\n",
    "from qiskit.opflow import CircuitStateFn, CircuitOp\n",
    "\n",
    "from collections.abc import Iterable\n",
    "from typing import Optional, Union, Dict, List, Iterable"
   ]
  },
  {
   "cell_type": "markdown",
   "id": "b48e5936-5050-4ac4-9d52-9a8a0c6e6b93",
   "metadata": {},
   "source": [
    "# Swap test\n",
    "> Functionalities to compute the overlap between states through a swap test."
   ]
  },
  {
   "cell_type": "code",
   "execution_count": null,
   "id": "06cdc40e-8c65-4a08-9beb-e50d04d0766b",
   "metadata": {},
   "outputs": [],
   "source": [
    "#export\n",
    "def swap_test_overlap(\n",
    "    state0: Union[QuantumCircuit, CircuitStateFn], \n",
    "    state1: Optional[Union[QuantumCircuit, CircuitStateFn, Iterable[Union[QuantumCircuit, CircuitStateFn]]]] = None, \n",
    "    param_dict: Optional[Dict[ParameterExpression, List[float]]] = None,\n",
    "    backend: Optional[Union[Backend, QuantumInstance]] = None\n",
    ") -> np.ndarray:\n",
    "    \"\"\"Returns overlap between states using swap test.\"\"\"\n",
    "    \n",
    "    if state1 is not None and param_dict is not None: \n",
    "        raise ValueError(\n",
    "            \"swap_test_overlap only accepts one optional input \"\n",
    "            \"either `state1` or `param_dict`.\"\n",
    "                        )\n",
    "        \n",
    "    backend = BasicAer.get_backend('qasm_simulator') if backend is None else backend\n",
    "    qi = QuantumInstance(backend) if isinstance(backend, Backend) else backend\n",
    "    if qi.is_statevector:\n",
    "        raise ValueError(\"swap_test_overlap does not suport statevector simulator yet.\")\n",
    "        \n",
    "    if isinstance(state0, QuantumCircuit): \n",
    "        state0 = CircuitStateFn(state0)\n",
    "    \n",
    "    if state1 is not None:\n",
    "        if not isinstance(state1, Iterable):\n",
    "            state1 = [state1]\n",
    "        state1 = [CircuitStateFn(s) if isinstance(s, QuantumCircuit) else s for s in state1]\n",
    "        \n",
    "    n_qubits = state0.num_qubits\n",
    "    swap_op = _swap_test_operator(n_qubits)\n",
    "    ancilla = CircuitStateFn(QuantumCircuit(1))\n",
    "    \n",
    "    def _swap_circuit(s0, s1):\n",
    "        circuit = (swap_op @ (s1 ^ s0 ^ ancilla)).primitive\n",
    "        circuit.add_register(ClassicalRegister(1))\n",
    "        circuit.measure(0, 0)\n",
    "        return circuit\n",
    "    \n",
    "    if state1 is not None:\n",
    "        circuits = [_swap_circuit(state0, s) for s in state1]\n",
    "    elif param_dict is not None:\n",
    "        states = state0.bind_parameters(param_dict)\n",
    "        circuits = [_swap_circuit(s_i, s_j)\n",
    "                    for i, s_i in enumerate(states) for s_j in states[i:]]\n",
    "    else:\n",
    "        circuits = [_swap_circuit(state0, state0)]\n",
    "        \n",
    "    counts = qi.execute(circuits).get_counts()\n",
    "    if not isinstance(counts, list): \n",
    "        counts = [counts]\n",
    "        \n",
    "    p0 = [c.get('0', 0)/sum(c.values()) for c in counts]\n",
    "    overlaps = 2*np.array(p0) - 1\n",
    "    \n",
    "    return overlaps.squeeze() if param_dict is None else sym_from_triu(overlaps, len(states))\n",
    "     \n",
    "def _swap_test_operator(n_qubits):\n",
    "    swap_qc = QuantumCircuit(2*n_qubits+1)\n",
    "    swap_qc.h(0)\n",
    "    for q in range(n_qubits):\n",
    "        swap_qc.cswap(0, q + 1, q + 1 + n_qubits)\n",
    "    swap_qc.h(0)\n",
    "    return CircuitOp(swap_qc)"
   ]
  },
  {
   "cell_type": "markdown",
   "id": "3839a057-2914-4a6f-8505-0d747aecbaec",
   "metadata": {},
   "source": [
    "The swap test is one of the most common ways of computing the overlap between quantum states. It relies on the construction of a circuit of $2n+1$ qubits, where $n$ is the number of qubits of the states that are to be compared. The additional qubit is used as control qubit for a set of control-swap gates performed between the qubits of the states.  \n",
    "\n",
    "We have taken the convention of having the additional qubit as the first one. This way, the operator applied to the tensored states looks as follows for two 3-qubit states. "
   ]
  },
  {
   "cell_type": "code",
   "execution_count": null,
   "id": "83bb1458-1837-4ec8-be8c-ffa292bdc98c",
   "metadata": {},
   "outputs": [
    {
     "data": {
      "image/png": "[encoded data removed]",
      "text/plain": [
       "<Figure size 387.597x445.48 with 1 Axes>"
      ]
     },
     "execution_count": null,
     "metadata": {},
     "output_type": "execute_result"
    }
   ],
   "source": [
    "_swap_test_operator(3).primitive.draw('mpl')"
   ]
  },
  {
   "cell_type": "markdown",
   "id": "594b354d-60cf-4e4b-bfde-20b2d9dd61f8",
   "metadata": {},
   "source": [
    "The first state $|\\psi\\rangle$ would, for instance, take qubits $q_1, q_2, q_3$ and the second state $|\\phi\\rangle$ would take $q_4, q_5, q_6$. The ancilla qubit, $q0$ is then measured and the probability of measuring zero $P_0$ is proportional to the overlap between the states, such that $$\\text{Tr}\\left[\\rho_\\psi\\rho_\\phi\\right] = 2P_0 - 1.$$\n",
    "\n",
    "The behaviour is analogous to the other overlap computation functions with the exception that `swap_test_overlap` does accept `QuantumCircuit` inputs, provided that it heavily relies on quantum circuit construction. \n",
    "\n",
    "See some function call examples below and refer to [the basic usage](https://borjarequena.github.io/Quantum-Fisherman/#Basic-usage) for a joint explanation of the overlap computation functions. "
   ]
  },
  {
   "cell_type": "code",
   "execution_count": null,
   "id": "51e3b4ee-aad2-42c8-a445-0bac1f726266",
   "metadata": {},
   "outputs": [],
   "source": [
    "#hide\n",
    "from qiskit.circuit import Parameter"
   ]
  },
  {
   "cell_type": "code",
   "execution_count": null,
   "id": "b32bcecd-72b6-4fa3-8306-bd7b24815452",
   "metadata": {},
   "outputs": [
    {
     "data": {
      "image/png": "[encoded data removed]",
      "text/plain": [
       "<Figure size 146.652x144.48 with 1 Axes>"
      ]
     },
     "execution_count": null,
     "metadata": {},
     "output_type": "execute_result"
    }
   ],
   "source": [
    "qc0 = QuantumCircuit(2)\n",
    "qc0.x(0)\n",
    "qc0.draw('mpl')"
   ]
  },
  {
   "cell_type": "code",
   "execution_count": null,
   "id": "f83558f7-6e14-481c-b1e8-e4e136bfcfa8",
   "metadata": {},
   "outputs": [
    {
     "data": {
      "image/png": "[encoded data removed]",
      "text/plain": [
       "<Figure size 146.652x144.48 with 1 Axes>"
      ]
     },
     "execution_count": null,
     "metadata": {},
     "output_type": "execute_result"
    }
   ],
   "source": [
    "theta0 = Parameter('θ')\n",
    "qc1 = QuantumCircuit(2)\n",
    "qc1.x(0)\n",
    "qc1.rx(theta0, 1)\n",
    "qc1.draw('mpl')"
   ]
  },
  {
   "cell_type": "code",
   "execution_count": null,
   "id": "5d43e2dc-074b-4065-8417-e96ba774a542",
   "metadata": {},
   "outputs": [
    {
     "data": {
      "text/plain": [
       "array([1.])"
      ]
     },
     "execution_count": null,
     "metadata": {},
     "output_type": "execute_result"
    }
   ],
   "source": [
    "state0 = CircuitStateFn(qc0)\n",
    "purity = swap_test_overlap(state0)\n",
    "purity"
   ]
  },
  {
   "cell_type": "code",
   "execution_count": null,
   "id": "b2b96366-5609-40e0-8647-8121b23a33d9",
   "metadata": {},
   "outputs": [],
   "source": [
    "theta_values = [0, np.pi/2, np.pi, 3*np.pi/2, 2*np.pi]\n",
    "param_dict = {theta0: theta_values}"
   ]
  },
  {
   "cell_type": "code",
   "execution_count": null,
   "id": "67719cd8-434f-4e83-a2f0-80194ef90360",
   "metadata": {},
   "outputs": [
    {
     "data": {
      "text/plain": [
       "array([ 1.        ,  0.47851562, -0.0078125 ,  0.44140625,  1.        ])"
      ]
     },
     "execution_count": null,
     "metadata": {},
     "output_type": "execute_result"
    }
   ],
   "source": [
    "state0 = CircuitStateFn(qc0)\n",
    "state1 = CircuitStateFn(qc1).bind_parameters(param_dict)\n",
    "overlaps = swap_test_overlap(state0, state1)\n",
    "overlaps"
   ]
  },
  {
   "cell_type": "code",
   "execution_count": null,
   "id": "9167b712-ddf2-45e2-982a-9a288e41155f",
   "metadata": {},
   "outputs": [
    {
     "data": {
      "text/plain": [
       "array([[ 1.        ,  0.49609375,  0.0078125 ,  0.50195312,  1.        ],\n",
       "       [ 0.49609375,  1.        ,  0.48242188,  0.03320312,  0.51171875],\n",
       "       [ 0.0078125 ,  0.48242188,  1.        ,  0.50585938, -0.00976562],\n",
       "       [ 0.50195312,  0.03320312,  0.50585938,  1.        ,  0.51171875],\n",
       "       [ 1.        ,  0.51171875, -0.00976562,  0.51171875,  1.        ]])"
      ]
     },
     "execution_count": null,
     "metadata": {},
     "output_type": "execute_result"
    }
   ],
   "source": [
    "param_state = CircuitStateFn(qc1)\n",
    "overlaps = swap_test_overlap(param_state, param_dict=param_dict)\n",
    "overlaps"
   ]
  },
  {
   "cell_type": "code",
   "execution_count": null,
   "id": "6b3dd9a7-2332-4901-8e6a-e6afe11adeb8",
   "metadata": {},
   "outputs": [
    {
     "data": {
      "text/plain": [
       "array([1., 1., 1., 1., 1.])"
      ]
     },
     "execution_count": null,
     "metadata": {},
     "output_type": "execute_result"
    }
   ],
   "source": [
    "overlaps.diagonal()"
   ]
  }
 ],
 "metadata": {
  "kernelspec": {
   "display_name": "Python [conda env:qiskit]",
   "language": "python",
   "name": "conda-env-qiskit-py"
  }
 },
 "nbformat": 4,
 "nbformat_minor": 5
}
